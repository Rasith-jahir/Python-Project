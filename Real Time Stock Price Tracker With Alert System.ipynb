{
 "cells": [
  {
   "cell_type": "code",
   "execution_count": 1,
   "id": "f378250c-9aa9-4363-9e40-5d210dca96bb",
   "metadata": {},
   "outputs": [],
   "source": [
    "import yfinance as yf\n",
    "import matplotlib.pyplot as plt\n",
    "import time\n",
    "import smtplib\n",
    "from email.message import EmailMessage"
   ]
  },
  {
   "cell_type": "code",
   "execution_count": 2,
   "id": "6cce7e1d-80b8-4b5a-b958-acdff9e83d7d",
   "metadata": {},
   "outputs": [],
   "source": [
    "def send_email(subject, body, to_email): \n",
    "    from_email = \"h*******h6@gmail.com \" #from email_id\n",
    "    from_password = \"k*********c\" #app password\n",
    "\n",
    "    msg = EmailMessage()\n",
    "    msg[\"From\"] = from_email\n",
    "    msg[\"To\"] = to_email\n",
    "    msg[\"Subject\"] = subject\n",
    "\n",
    "    msg.set_content(body)\n",
    "\n",
    "    try:\n",
    "        server = smtplib.SMTP(\"smtp.gmail.com\", 587)\n",
    "        server.starttls()\n",
    "        server.login(from_email, from_password)\n",
    "        server.send_message(msg)\n",
    "        print(f\"Email sent to {to_email}\")\n",
    "    except Exception as e:\n",
    "        print(f\"Error sending email: {e}\")"
   ]
  },
  {
   "cell_type": "code",
   "execution_count": 3,
   "id": "88d2d630-ce32-4329-ab77-d32facb8cda2",
   "metadata": {},
   "outputs": [
    {
     "name": "stdin",
     "output_type": "stream",
     "text": [
      "Enter your stock symbol eg; AAPL MSFT MSFT\n",
      "enter your email eg; recipient_email@gmail.com jhdesigns67@gmail.com\n"
     ]
    },
    {
     "name": "stdout",
     "output_type": "stream",
     "text": [
      "Current price of MSFT: $413.29\n"
     ]
    },
    {
     "name": "stdin",
     "output_type": "stream",
     "text": [
      "Enter your Target value 414\n",
      "Enter a decrease value. If the stock price drops, an alert will be sent to your email 410\n"
     ]
    },
    {
     "name": "stdout",
     "output_type": "stream",
     "text": [
      "Email sent to jhdesigns67@gmail.com\n"
     ]
    },
    {
     "ename": "NameError",
     "evalue": "name 'stock' is not defined",
     "output_type": "error",
     "traceback": [
      "\u001b[1;31m---------------------------------------------------------------------------\u001b[0m",
      "\u001b[1;31mNameError\u001b[0m                                 Traceback (most recent call last)",
      "Cell \u001b[1;32mIn[3], line 32\u001b[0m\n\u001b[0;32m     29\u001b[0m             time\u001b[38;5;241m.\u001b[39msleep(\u001b[38;5;241m60\u001b[39m)\n\u001b[0;32m     30\u001b[0m get_stock_pricewithalert()\n\u001b[1;32m---> 32\u001b[0m data\u001b[38;5;241m=\u001b[39mstock\u001b[38;5;241m.\u001b[39mhistory(period\u001b[38;5;241m=\u001b[39m\u001b[38;5;124m\"\u001b[39m\u001b[38;5;124m7d\u001b[39m\u001b[38;5;124m\"\u001b[39m)\n\u001b[0;32m     34\u001b[0m plt\u001b[38;5;241m.\u001b[39mfigure(figsize\u001b[38;5;241m=\u001b[39m(\u001b[38;5;241m10\u001b[39m, \u001b[38;5;241m6\u001b[39m))\n\u001b[0;32m     35\u001b[0m plt\u001b[38;5;241m.\u001b[39mplot(data\u001b[38;5;241m.\u001b[39mindex, data[\u001b[38;5;124m\"\u001b[39m\u001b[38;5;124mClose\u001b[39m\u001b[38;5;124m\"\u001b[39m], marker\u001b[38;5;241m=\u001b[39m\u001b[38;5;124m'\u001b[39m\u001b[38;5;124mo\u001b[39m\u001b[38;5;124m'\u001b[39m, color\u001b[38;5;241m=\u001b[39m\u001b[38;5;124m'\u001b[39m\u001b[38;5;124mb\u001b[39m\u001b[38;5;124m'\u001b[39m, label\u001b[38;5;241m=\u001b[39m\u001b[38;5;124mf\u001b[39m\u001b[38;5;124m\"\u001b[39m\u001b[38;5;132;01m{\u001b[39;00msymbol\u001b[38;5;132;01m}\u001b[39;00m\u001b[38;5;124m Closing Price\u001b[39m\u001b[38;5;124m\"\u001b[39m)\n",
      "\u001b[1;31mNameError\u001b[0m: name 'stock' is not defined"
     ]
    }
   ],
   "source": [
    "symbol = input(\"Enter your stock symbol eg; AAPL MSFT\")  #company symbol\n",
    "to_email=input(\"enter your email eg; recipient_email@gmail.com\")\n",
    "\n",
    "def get_stock_pricewithalert():\n",
    "    while True:\n",
    "        try:\n",
    "            stock = yf.Ticker(symbol)\n",
    "            current_price = stock.history(period=\"1d\")[\"Close\"].iloc[-1]\n",
    "            print(f\"Current price of {symbol}: ${current_price:.2f}\")\n",
    "            target_price = int(input(\"Enter your Target value\")) # target price to reach\n",
    "            lower_treshold = int(input(\"Enter a decrease value. If the stock price drops, an alert will be sent to your email\"))\n",
    "\n",
    "            if current_price >= target_price:\n",
    "                subject = f\"ALERT: {symbol} Price Alert!\"\n",
    "                body = f\"The stock {symbol} has reached ${current_price:.2f}, crossing your target of ${target_price}.\"\n",
    "                send_email(subject, body, to_email)\n",
    "            elif current_price < lower_treshold:\n",
    "                subject = f\"ALERT: {symbol} Drop Alert!\"\n",
    "                body = f\"The stock {symbol} has dropped to ${current_price:.2f}, falling below your target of ${lower_threshold}.\"\n",
    "                send_email(subject, body, to_email)\n",
    "            else:\n",
    "                subject = f\"ALERT: {symbol} Drop Update!\"\n",
    "                body = f\"Update: The stock {symbol} is currently at ${current_price:.2f}, fluctuating between your target of ${target_price} and your drop threshold of ${lower_treshold}.\"\n",
    "                send_email(subject, body, to_email)\n",
    "            time.sleep(60)\n",
    "            break\n",
    "        except:\n",
    "            print(f\"Error fetching stock price: {e}\")\n",
    "            time.sleep(60)\n",
    "get_stock_pricewithalert()\n",
    "\n",
    "data=stock.history(period=\"7d\")\n",
    "\n",
    "plt.figure(figsize=(10, 6))\n",
    "plt.plot(data.index, data[\"Close\"], marker='o', color='b', label=f\"{symbol} Closing Price\")\n",
    "plt.title(f\"Stock Price of {symbol} over the Last 7 Days\")\n",
    "plt.xlabel(\"Date\")\n",
    "plt.ylabel(\"Price (USD)\")\n",
    "plt.xticks(rotation=45)"
   ]
  },
  {
   "cell_type": "code",
   "execution_count": null,
   "id": "7e926d3d-e41c-46de-b724-948679cbdd6d",
   "metadata": {},
   "outputs": [],
   "source": []
  }
 ],
 "metadata": {
  "kernelspec": {
   "display_name": "Python [conda env:base] *",
   "language": "python",
   "name": "conda-base-py"
  },
  "language_info": {
   "codemirror_mode": {
    "name": "ipython",
    "version": 3
   },
   "file_extension": ".py",
   "mimetype": "text/x-python",
   "name": "python",
   "nbconvert_exporter": "python",
   "pygments_lexer": "ipython3",
   "version": "3.12.7"
  }
 },
 "nbformat": 4,
 "nbformat_minor": 5
}
